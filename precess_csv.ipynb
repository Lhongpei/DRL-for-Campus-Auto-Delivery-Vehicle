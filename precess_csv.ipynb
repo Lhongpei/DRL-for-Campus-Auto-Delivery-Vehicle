{
 "cells": [
  {
   "cell_type": "code",
   "execution_count": 1,
   "metadata": {},
   "outputs": [],
   "source": [
    "import pandas as pd"
   ]
  },
  {
   "cell_type": "code",
   "execution_count": 5,
   "metadata": {},
   "outputs": [
    {
     "name": "stdout",
     "output_type": "stream",
     "text": [
      "Data successfully written to output.csv\n"
     ]
    }
   ],
   "source": [
    "import csv\n",
    "\n",
    "# 定义输入和输出文件名\n",
    "input_filename = 'input.txt'\n",
    "output_filename = 'output.csv'\n",
    "\n",
    "# 读取数据文件\n",
    "with open(input_filename, 'r') as infile:\n",
    "    # 跳过表头行\n",
    "    infile.readline()\n",
    "    infile.readline()\n",
    "    data_lines = infile.readlines()\n",
    "\n",
    "# 处理数据并写入CSV文件\n",
    "with open(output_filename, 'w', newline='') as csvfile:\n",
    "    csv_writer = csv.writer(csvfile)\n",
    "    # 写入表头\n",
    "    csv_writer.writerow(['firm', 'crste', 'vrste', 'scale', 'label'])\n",
    "    for line in data_lines:\n",
    "        # 拆分每行数据，并去掉换行符\n",
    "        row = line.strip().split()\n",
    "        csv_writer.writerow(row)\n",
    "\n",
    "print(f'Data successfully written to {output_filename}')\n"
   ]
  },
  {
   "cell_type": "code",
   "execution_count": null,
   "metadata": {},
   "outputs": [],
   "source": []
  }
 ],
 "metadata": {
  "kernelspec": {
   "display_name": "pytor",
   "language": "python",
   "name": "python3"
  },
  "language_info": {
   "codemirror_mode": {
    "name": "ipython",
    "version": 3
   },
   "file_extension": ".py",
   "mimetype": "text/x-python",
   "name": "python",
   "nbconvert_exporter": "python",
   "pygments_lexer": "ipython3",
   "version": "3.11.4"
  }
 },
 "nbformat": 4,
 "nbformat_minor": 2
}
